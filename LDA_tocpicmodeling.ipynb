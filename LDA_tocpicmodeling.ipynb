{
 "cells": [
  {
   "cell_type": "markdown",
   "metadata": {},
   "source": [
    "# LDA Topic modeling \n",
    "## 의료와 관련된 자료로 자세한 건 언급할 수 없다"
   ]
  },
  {
   "cell_type": "code",
   "execution_count": 17,
   "metadata": {},
   "outputs": [],
   "source": [
    "library(stringr)\n",
    "library(topicmodels)\n",
    "library(openxlsx)\n",
    "library(rJava)\n",
    "library(tm)\n",
    "library(dplyr)\n",
    "library(NIADic)\n",
    "library(LDAvis)\n",
    "library(ldatuning)\n",
    "library(servr)\n",
    "library(KoNLP) #rJava library를 먼저 구동해야함.\n",
    "library(tidyverse)\n",
    "library(tidytext)"
   ]
  },
  {
   "cell_type": "code",
   "execution_count": 2,
   "metadata": {},
   "outputs": [],
   "source": [
    "safe<-read.csv(\"C:/Users/admin/Desktop/medication_error.csv\",stringsAsFactors = F)"
   ]
  },
  {
   "cell_type": "markdown",
   "metadata": {},
   "source": [
    "## 특수문자 및 오타(자음,모음)들을 제거하면 용이하다"
   ]
  },
  {
   "cell_type": "code",
   "execution_count": 3,
   "metadata": {},
   "outputs": [],
   "source": [
    "\n",
    "safe$situation_measures<-str_replace_all(safe$situation_measures,\"\\\\(\",\" \")\n",
    "safe$situation_measures<-str_replace_all(safe$situation_measures,\"\\\\)\",\" \")\n",
    "safe$situation_measures<-str_replace_all(safe$situation_measures,\"’\",\" \")\n",
    "safe$situation_measures<-str_replace_all(safe$situation_measures,\"  \",\" \")\n",
    "safe$situation_measures<-str_replace_all(safe$situation_measures,\"”\",\" \")\n",
    "safe$situation_measures<-str_replace_all(safe$situation_measures,\",\",\" \")\n",
    "safe$situation_measures<-str_replace_all(safe$situation_measures,\"\\\\d\",\" \")\n",
    "safe$situation_measures<-str_replace_all(safe$situation_measures,\"<\",\" \")\n",
    "safe$situation_measures<-str_replace_all(safe$situation_measures,\">\",\" \")\n",
    "safe$situation_measures<-str_replace_all(safe$situation_measures,\"\\\\+\",\" \")\n",
    "safe$situation_measures<-str_replace_all(safe$situation_measures,\":\",\" \")\n",
    "safe$situation_measures<-str_replace_all(safe$situation_measures,\"%\",\" \")\n",
    "safe$situation_measures<-str_replace_all(safe$situation_measures,\"=\",\" \")\n",
    "safe$situation_measures<-str_replace_all(safe$situation_measures,\"/\",\" \")\n",
    "safe$situation_measures<-str_replace_all(safe$situation_measures,\"\\\\[\",\" \")\n",
    "safe$situation_measures<-str_replace_all(safe$situation_measures,\"\\\\]\",\" \")\n",
    "safe$situation_measures<-str_replace_all(safe$situation_measures,\";\",\" \")\n",
    "safe$situation_measures<-str_replace_all(safe$situation_measures,\"-\",\" \")\n",
    "safe$situation_measures<-str_replace_all(safe$situation_measures,\"_\",\" \")\n",
    "safe$situation_measures<-str_replace_all(safe$situation_measures,\"±\",\" \")\n",
    "safe$situation_measures<-str_replace_all(safe$situation_measures,\"'\",\" \")\n",
    "safe$situation_measures<-str_replace_all(safe$situation_measures,\"\\\\.\",\" \")\n",
    "safe$situation_measures<-str_replace_all(safe$situation_measures,\"®\",\" \")\n",
    "safe$situation_measures<-str_replace_all(safe$situation_measures,\"“\",\" \")\n",
    "safe$situation_measures<-str_replace_all(safe$situation_measures,\"’\",\" \")\n",
    "safe$situation_measures<-str_replace_all(safe$situation_measures,\"‘\",\" \")\n",
    "safe$situation_measures<-str_replace_all(safe$situation_measures,\"ㄱ\",\" \")\n",
    "safe$situation_measures<-str_replace_all(safe$situation_measures,\"~\",\" \")\n",
    "\n",
    "safe$situation_measures<-str_replace_all(safe$situation_measures,\"\\\\?\",\" \")\n",
    "safe$situation_measures<-str_replace_all(safe$situation_measures,\"!\",\" \")\n",
    "safe$situation_measures<-str_replace_all(safe$situation_measures,\"ㅡ\",\" \")\n",
    "\n",
    "safe$situation_measures<-str_replace_all(safe$situation_measures,\"ㄱ\",\" \")\n",
    "safe$situation_measures<-str_replace_all(safe$situation_measures,\"ㄴ\",\" \")\n",
    "safe$situation_measures<-str_replace_all(safe$situation_measures,\"ㄷ\",\" \")\n",
    "safe$situation_measures<-str_replace_all(safe$situation_measures,\"ㄹ\",\" \")\n",
    "safe$situation_measures<-str_replace_all(safe$situation_measures,\"ㅁ\",\" \")\n",
    "safe$situation_measures<-str_replace_all(safe$situation_measures,\"ㅂ\",\" \")\n",
    "safe$situation_measures<-str_replace_all(safe$situation_measures,\"ㅅ\",\" \")\n",
    "safe$situation_measures<-str_replace_all(safe$situation_measures,\"ㅇ\",\" \")\n",
    "safe$situation_measures<-str_replace_all(safe$situation_measures,\"ㅈ\",\" \")\n",
    "safe$situation_measures<-str_replace_all(safe$situation_measures,\"ㅊ\",\" \")\n",
    "safe$situation_measures<-str_replace_all(safe$situation_measures,\"ㅋ\",\" \")\n",
    "safe$situation_measures<-str_replace_all(safe$situation_measures,\"ㅌ\",\" \")\n",
    "safe$situation_measures<-str_replace_all(safe$situation_measures,\"ㅍ\",\" \")\n",
    "safe$situation_measures<-str_replace_all(safe$situation_measures,\"ㅎ\",\" \")\n",
    "\n",
    "safe$situation_measures<-str_replace_all(safe$situation_measures,\"ㅏ\",\" \")\n",
    "safe$situation_measures<-str_replace_all(safe$situation_measures,\"ㅑ\",\" \")\n",
    "safe$situation_measures<-str_replace_all(safe$situation_measures,\"ㅗ\",\" \")\n",
    "safe$situation_measures<-str_replace_all(safe$situation_measures,\"ㅛ\",\" \")\n",
    "safe$situation_measures<-str_replace_all(safe$situation_measures,\"ㅠ\",\" \")\n",
    "safe$situation_measures<-str_replace_all(safe$situation_measures,\"ㅣ\",\" \")\n",
    "safe$situation_measures<-str_replace_all(safe$situation_measures,\"ㅢ\",\" \")\n",
    "safe$situation_measures<-str_replace_all(safe$situation_measures,\"ㅜ\",\" \")\n",
    "safe$situation_measures<-str_replace_all(safe$situation_measures,\"ㅕ\",\" \")\n",
    "safe$situation_measures<-str_replace_all(safe$situation_measures,\"ㅓ\",\" \")\n",
    "safe$situation_measures<-str_replace_all(safe$situation_measures,\"ㅔ\",\" \")\n",
    "safe$situation_measures<-str_replace_all(safe$situation_measures,\"ㅖ\",\" \")\n",
    "\n",
    "\n",
    "safe$situation_measures<-str_replace_all(safe$situation_measures,\"\\\\》\",\" ㅖ\")\n",
    "safe$situation_measures<-str_replace_all(safe$situation_measures,\"ㅢ\",\" \")\n",
    "safe$situation_measures<-str_replace_all(safe$situation_measures,\"ㅜ\",\" \")\n",
    "safe$situation_measures<-str_replace_all(safe$situation_measures,\"\\\\÷\",\" \")\n",
    "safe$situation_measures<-str_replace_all(safe$situation_measures,\"\\\\■\",\" \")\n",
    "safe$situation_measures<-str_replace_all(safe$situation_measures,\"\\\\→\",\" \")\n",
    "safe$situation_measures<-str_replace_all(safe$situation_measures,\"\\\\°\",\" \")\n",
    "safe$situation_measures<-str_replace_all(safe$situation_measures,\"☆\",\" \")\n",
    "safe$situation_measures<-str_replace_all(safe$situation_measures,\"★\",\" \")\n",
    "safe$situation_measures<-str_replace_all(safe$situation_measures,\"♀\",\" \")\n",
    "safe$situation_measures<-str_replace_all(safe$situation_measures,\"♂\",\" \")\n",
    "safe$situation_measures<-str_replace_all(safe$situation_measures,\"♡\",\" \")"
   ]
  },
  {
   "cell_type": "markdown",
   "metadata": {},
   "source": [
    "## KoNLP패키지의 extractNoun을 이용하여 텍스트를 명사로 분리한다.\n",
    "### tm패키지에서 token이 사용이 안되기 때문에(한글이라) 이렇게 진행해줘야 한다."
   ]
  },
  {
   "cell_type": "code",
   "execution_count": 6,
   "metadata": {},
   "outputs": [],
   "source": [
    "\n",
    "doc1<-sapply(safe$situation_measures, extractNoun,USE.NAMES = F)\n",
    "\n",
    "doc2<-list()\n",
    "\n",
    "for(i in 1:length(doc1)){\n",
    "  doc2[[i]] <- Filter(function(x){nchar(x)>=2}, doc1[[i]])\n",
    "}\n",
    "\n",
    "doc2<-sapply(doc2, paste, collapse=\" \")\n"
   ]
  },
  {
   "cell_type": "markdown",
   "metadata": {},
   "source": [
    "## 텍스트에서 명사로 분리된것을 확인할 수 있다."
   ]
  },
  {
   "cell_type": "code",
   "execution_count": 7,
   "metadata": {},
   "outputs": [
    {
     "data": {
      "text/html": [
       "<span style=white-space:pre-wrap>'안과 수술예정인  세 남자 환아  마취전 pre medication 약 atropine    mg 을 간호사가 안과 전공의 아이디로 로그인하여 처방함  처방하는 과정에서 atropine    mg을 atropine  mg으로 잘못 처방함  간호사가 투약카드에 적힌 용량인 atropine  mg 을 환자에게 IM 으로 주사함  주치의에게 위 상황 보고 및 환자상태 관찰함  '</span>"
      ],
      "text/latex": [
       "'안과 수술예정인  세 남자 환아  마취전 pre medication 약 atropine    mg 을 간호사가 안과 전공의 아이디로 로그인하여 처방함  처방하는 과정에서 atropine    mg을 atropine  mg으로 잘못 처방함  간호사가 투약카드에 적힌 용량인 atropine  mg 을 환자에게 IM 으로 주사함  주치의에게 위 상황 보고 및 환자상태 관찰함  '"
      ],
      "text/markdown": [
       "<span style=white-space:pre-wrap>'안과 수술예정인  세 남자 환아  마취전 pre medication 약 atropine    mg 을 간호사가 안과 전공의 아이디로 로그인하여 처방함  처방하는 과정에서 atropine    mg을 atropine  mg으로 잘못 처방함  간호사가 투약카드에 적힌 용량인 atropine  mg 을 환자에게 IM 으로 주사함  주치의에게 위 상황 보고 및 환자상태 관찰함  '</span>"
      ],
      "text/plain": [
       "[1] \"안과 수술예정인  세 남자 환아  마취전 pre medication 약 atropine    mg 을 간호사가 안과 전공의 아이디로 로그인하여 처방함  처방하는 과정에서 atropine    mg을 atropine  mg으로 잘못 처방함  간호사가 투약카드에 적힌 용량인 atropine  mg 을 환자에게 IM 으로 주사함  주치의에게 위 상황 보고 및 환자상태 관찰함  \""
      ]
     },
     "metadata": {},
     "output_type": "display_data"
    },
    {
     "data": {
      "text/html": [
       "'수술 예정 남자 환아 마취 pre medication atropine mg 간호사 전공 아이 로그인 처방 처방 과정 atropine mg atropine mg 잘못 처방 간호사 투약 카드 용량 atropine mg 환자 IM 으로 주사 주치의 상황 환자 상태 관찰'"
      ],
      "text/latex": [
       "'수술 예정 남자 환아 마취 pre medication atropine mg 간호사 전공 아이 로그인 처방 처방 과정 atropine mg atropine mg 잘못 처방 간호사 투약 카드 용량 atropine mg 환자 IM 으로 주사 주치의 상황 환자 상태 관찰'"
      ],
      "text/markdown": [
       "'수술 예정 남자 환아 마취 pre medication atropine mg 간호사 전공 아이 로그인 처방 처방 과정 atropine mg atropine mg 잘못 처방 간호사 투약 카드 용량 atropine mg 환자 IM 으로 주사 주치의 상황 환자 상태 관찰'"
      ],
      "text/plain": [
       "[1] \"수술 예정 남자 환아 마취 pre medication atropine mg 간호사 전공 아이 로그인 처방 처방 과정 atropine mg atropine mg 잘못 처방 간호사 투약 카드 용량 atropine mg 환자 IM 으로 주사 주치의 상황 환자 상태 관찰\""
      ]
     },
     "metadata": {},
     "output_type": "display_data"
    }
   ],
   "source": [
    "safe$situation_measures[1]\n",
    "doc2[1]"
   ]
  },
  {
   "cell_type": "markdown",
   "metadata": {},
   "source": [
    "## 이 자료를 tm 패키지를 통해 tf-idf로 간단하게 만들 수 있다.\n",
    "## 이때, 다수의 텍스트 자료들을 Corpus라고 부른다. Corpus에서의 단어들의 빈도를 확인할 수 있다.\n"
   ]
  },
  {
   "cell_type": "code",
   "execution_count": 8,
   "metadata": {
    "scrolled": true
   },
   "outputs": [
    {
     "data": {
      "text/html": [
       "<table>\n",
       "<thead><tr><th></th><th scope=col>rowSums.m.</th></tr></thead>\n",
       "<tbody>\n",
       "\t<tr><th scope=row>처방</th><td>670</td></tr>\n",
       "\t<tr><th scope=row>성분</th><td>426</td></tr>\n",
       "\t<tr><th scope=row>환자</th><td>414</td></tr>\n",
       "\t<tr><th scope=row>의약품</th><td>396</td></tr>\n",
       "\t<tr><th scope=row>확인</th><td>283</td></tr>\n",
       "\t<tr><th scope=row>밀리그램</th><td>259</td></tr>\n",
       "</tbody>\n",
       "</table>\n"
      ],
      "text/latex": [
       "\\begin{tabular}{r|l}\n",
       "  & rowSums.m.\\\\\n",
       "\\hline\n",
       "\t처방 & 670\\\\\n",
       "\t성분 & 426\\\\\n",
       "\t환자 & 414\\\\\n",
       "\t의약품 & 396\\\\\n",
       "\t확인 & 283\\\\\n",
       "\t밀리그램 & 259\\\\\n",
       "\\end{tabular}\n"
      ],
      "text/markdown": [
       "\n",
       "| <!--/--> | rowSums.m. |\n",
       "|---|---|\n",
       "| 처방 | 670 |\n",
       "| 성분 | 426 |\n",
       "| 환자 | 414 |\n",
       "| 의약품 | 396 |\n",
       "| 확인 | 283 |\n",
       "| 밀리그램 | 259 |\n",
       "\n"
      ],
      "text/plain": [
       "         rowSums.m.\n",
       "처방     670       \n",
       "성분     426       \n",
       "환자     414       \n",
       "의약품   396       \n",
       "확인     283       \n",
       "밀리그램 259       "
      ]
     },
     "metadata": {},
     "output_type": "display_data"
    }
   ],
   "source": [
    "\n",
    "doc3 <- Corpus(VectorSource(doc2)) \n",
    "tdm<-TermDocumentMatrix(doc3)\n",
    "\n",
    "m<-as.matrix(tdm)\n",
    "m<-as.data.frame(m)\n",
    "\n",
    "mm<-data.frame(rowSums(m))\n",
    "mm<-arrange(mm,desc(mm$rowSums.m.))\n",
    "head(mm)"
   ]
  },
  {
   "cell_type": "markdown",
   "metadata": {},
   "source": [
    "## 이때, 단어들을 확인할 필요가 있는데, 같은 의미를 갖는 단어들이 다수 존재하기 때문이다.\n",
    "## \"복용\",\"투여\",\"투약\"과 같이 같은 의미를 갖는 단어들을 확인하여 하나의 단어로 동의어 처리를 해주는 작업이 필요하다. "
   ]
  },
  {
   "cell_type": "code",
   "execution_count": null,
   "metadata": {},
   "outputs": [],
   "source": [
    "\n",
    "#dat1<-read.csv(\"situation_measures.tfm.csv\",stringsAsFactors = F)\n",
    "#sym1<-read.csv(\"situation_measures.sym.csv\",stringsAsFactors = F)\n",
    "\n",
    "#sym1<-sym1[sym1$rowSums.m.>5,]\n",
    "\n",
    "#ind1<-sym1$sym==\"삭제\"\n",
    "\n",
    "#sym1<-sym1[which(ind1==F),]\n",
    "#ind2<-sym1$sym==\"\"\n",
    "#sym1$sym[ind2==T]<-sym1$word[ind2==T]\n",
    "\n",
    "#ind3<-dat1$X %in% sym1$word\n",
    "#dat1<-dat1[which(ind3==T),]\n",
    "\n",
    "\n",
    "#for(k in 1:length(dat1$X)){\n",
    "#  for(i in 1:length(sym1$word)){\n",
    "#    \n",
    "#    if(dat1$X[k]==sym1$word[i]){\n",
    "#      dat1$X[k]<-sym1$sym[i]\n",
    "#      \n",
    "#      cat(k,i,\"\\n\")\n",
    "#    }\n",
    "#  }\n",
    "#}\n",
    "\n"
   ]
  },
  {
   "cell_type": "markdown",
   "metadata": {},
   "source": [
    "## tm패키지에서 lda를 진행하기 전에 dtm으로 변환해야한다.\n",
    "## 그 후, 토픽개수를 찾기 위해 Griffiths,2004를 기준으로 grid search를 통해 진행한다.(오래걸림)"
   ]
  },
  {
   "cell_type": "code",
   "execution_count": 10,
   "metadata": {},
   "outputs": [],
   "source": [
    "\n",
    "dtm<-as.DocumentTermMatrix(tdm)\n"
   ]
  },
  {
   "cell_type": "markdown",
   "metadata": {},
   "source": [
    "optimal.topics1 <- FindTopicsNumber(dtm, topics = 2:50,\n",
    "                                    metrics = c(\"Arun2010\", \"Griffiths2004\"),method = \"Gibbs\"\n",
    "                                    ,control = list(seed = 77, burnin = 1000,estimate.beta = TRUE,iter=1000\n",
    "                                                    ,verbose = 0, save = 0), mc.cores = 2L,verbose = TRUE,set.seed(9962))\n"
   ]
  },
  {
   "cell_type": "code",
   "execution_count": 11,
   "metadata": {},
   "outputs": [],
   "source": [
    "\n",
    "k=16\n",
    "\n",
    "\n",
    "control_lda<- list(estimate.beta = TRUE,alpha=50/k,\n",
    "                   verbose = 0, prefix = tempfile(), save = 0, keep = 0,\n",
    "                   seed = 77, nstart = 1, best = TRUE,\n",
    "                   delta = 0.1,\n",
    "                   iter = 1000, burnin = 1000, thin = 500)\n",
    "\n",
    "lda<-LDA(dtm, k = k, control = control_lda,method = \"Gibbs\")"
   ]
  },
  {
   "cell_type": "code",
   "execution_count": 18,
   "metadata": {},
   "outputs": [],
   "source": [
    "\n",
    "lda_doc<-tidy(lda,matrix=\"gamma\")\n",
    "\n",
    "\n",
    "\n",
    "\n",
    "lda_docs<-lda_doc%>%\n",
    "  group_by(document) %>%\n",
    "  arrange(document,-gamma)\n",
    "\n",
    "\n",
    "\n",
    "\n",
    "lda_topic<-tidy(lda,matrix=\"beta\")\n",
    "\n",
    "lda_topics <- lda_topic %>%\n",
    "  group_by(topic) %>%\n",
    "  arrange(topic,-beta)\n"
   ]
  },
  {
   "cell_type": "markdown",
   "metadata": {},
   "source": [
    "## 각 토픽에서 해당 단어가 뽑힐 확률 beta"
   ]
  },
  {
   "cell_type": "code",
   "execution_count": 20,
   "metadata": {
    "scrolled": false
   },
   "outputs": [
    {
     "data": {
      "text/html": [
       "<table>\n",
       "<thead><tr><th scope=col>topic</th><th scope=col>term</th><th scope=col>beta</th></tr></thead>\n",
       "<tbody>\n",
       "\t<tr><td>1                 </td><td>밀리그램          </td><td>0.09463656        </td></tr>\n",
       "\t<tr><td>1                 </td><td>수출              </td><td>0.07628793        </td></tr>\n",
       "\t<tr><td>1                 </td><td>몬테루카스트나트륨</td><td>0.02618207        </td></tr>\n",
       "\t<tr><td>1                 </td><td>수정              </td><td>0.02124206        </td></tr>\n",
       "\t<tr><td>1                 </td><td>클라불란산칼륨    </td><td>0.02124206        </td></tr>\n",
       "\t<tr><td>1                 </td><td>아목시실린        </td><td>0.02053634        </td></tr>\n",
       "</tbody>\n",
       "</table>\n"
      ],
      "text/latex": [
       "\\begin{tabular}{r|lll}\n",
       " topic & term & beta\\\\\n",
       "\\hline\n",
       "\t 1                  & 밀리그램           & 0.09463656        \\\\\n",
       "\t 1                  & 수출               & 0.07628793        \\\\\n",
       "\t 1                  & 몬테루카스트나트륨 & 0.02618207        \\\\\n",
       "\t 1                  & 수정               & 0.02124206        \\\\\n",
       "\t 1                  & 클라불란산칼륨     & 0.02124206        \\\\\n",
       "\t 1                  & 아목시실린         & 0.02053634        \\\\\n",
       "\\end{tabular}\n"
      ],
      "text/markdown": [
       "\n",
       "| topic | term | beta |\n",
       "|---|---|---|\n",
       "| 1                  | 밀리그램           | 0.09463656         |\n",
       "| 1                  | 수출               | 0.07628793         |\n",
       "| 1                  | 몬테루카스트나트륨 | 0.02618207         |\n",
       "| 1                  | 수정               | 0.02124206         |\n",
       "| 1                  | 클라불란산칼륨     | 0.02124206         |\n",
       "| 1                  | 아목시실린         | 0.02053634         |\n",
       "\n"
      ],
      "text/plain": [
       "  topic term               beta      \n",
       "1 1     밀리그램           0.09463656\n",
       "2 1     수출               0.07628793\n",
       "3 1     몬테루카스트나트륨 0.02618207\n",
       "4 1     수정               0.02124206\n",
       "5 1     클라불란산칼륨     0.02124206\n",
       "6 1     아목시실린         0.02053634"
      ]
     },
     "metadata": {},
     "output_type": "display_data"
    }
   ],
   "source": [
    "head(lda_topics)"
   ]
  },
  {
   "cell_type": "markdown",
   "metadata": {},
   "source": [
    "## 각 문서에 해당 토픽이 뽑힐 확률 gamma"
   ]
  },
  {
   "cell_type": "code",
   "execution_count": 21,
   "metadata": {
    "scrolled": true
   },
   "outputs": [
    {
     "data": {
      "text/html": [
       "<table>\n",
       "<thead><tr><th scope=col>document</th><th scope=col>topic</th><th scope=col>gamma</th></tr></thead>\n",
       "<tbody>\n",
       "\t<tr><td>1         </td><td>14        </td><td>0.11128049</td></tr>\n",
       "\t<tr><td>1         </td><td> 3        </td><td>0.09908537</td></tr>\n",
       "\t<tr><td>1         </td><td>12        </td><td>0.08689024</td></tr>\n",
       "\t<tr><td>1         </td><td>16        </td><td>0.08689024</td></tr>\n",
       "\t<tr><td>1         </td><td> 4        </td><td>0.07469512</td></tr>\n",
       "\t<tr><td>1         </td><td>13        </td><td>0.07469512</td></tr>\n",
       "</tbody>\n",
       "</table>\n"
      ],
      "text/latex": [
       "\\begin{tabular}{r|lll}\n",
       " document & topic & gamma\\\\\n",
       "\\hline\n",
       "\t 1          & 14         & 0.11128049\\\\\n",
       "\t 1          &  3         & 0.09908537\\\\\n",
       "\t 1          & 12         & 0.08689024\\\\\n",
       "\t 1          & 16         & 0.08689024\\\\\n",
       "\t 1          &  4         & 0.07469512\\\\\n",
       "\t 1          & 13         & 0.07469512\\\\\n",
       "\\end{tabular}\n"
      ],
      "text/markdown": [
       "\n",
       "| document | topic | gamma |\n",
       "|---|---|---|\n",
       "| 1          | 14         | 0.11128049 |\n",
       "| 1          |  3         | 0.09908537 |\n",
       "| 1          | 12         | 0.08689024 |\n",
       "| 1          | 16         | 0.08689024 |\n",
       "| 1          |  4         | 0.07469512 |\n",
       "| 1          | 13         | 0.07469512 |\n",
       "\n"
      ],
      "text/plain": [
       "  document topic gamma     \n",
       "1 1        14    0.11128049\n",
       "2 1         3    0.09908537\n",
       "3 1        12    0.08689024\n",
       "4 1        16    0.08689024\n",
       "5 1         4    0.07469512\n",
       "6 1        13    0.07469512"
      ]
     },
     "metadata": {},
     "output_type": "display_data"
    }
   ],
   "source": [
    "head(lda_docs)"
   ]
  },
  {
   "cell_type": "markdown",
   "metadata": {},
   "source": [
    "# 계속 수정중"
   ]
  }
 ],
 "metadata": {
  "kernelspec": {
   "display_name": "R",
   "language": "R",
   "name": "ir"
  },
  "language_info": {
   "codemirror_mode": "r",
   "file_extension": ".r",
   "mimetype": "text/x-r-source",
   "name": "R",
   "pygments_lexer": "r",
   "version": "3.6.1"
  }
 },
 "nbformat": 4,
 "nbformat_minor": 4
}
